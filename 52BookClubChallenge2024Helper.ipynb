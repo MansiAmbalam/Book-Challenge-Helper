{
  "nbformat": 4,
  "nbformat_minor": 0,
  "metadata": {
    "colab": {
      "provenance": []
    },
    "kernelspec": {
      "name": "python3",
      "display_name": "Python 3"
    },
    "language_info": {
      "name": "python"
    }
  },
  "cells": [
    {
      "cell_type": "code",
      "source": [
        "!pip install requests\n",
        "!pip install beautifulsoup4"
      ],
      "metadata": {
        "id": "sgGCr33vr3O1"
      },
      "execution_count": null,
      "outputs": []
    },
    {
      "cell_type": "code",
      "source": [
        "import requests\n",
        "from bs4 import BeautifulSoup"
      ],
      "metadata": {
        "id": "79uKUAom1LDh"
      },
      "execution_count": 3,
      "outputs": []
    },
    {
      "cell_type": "code",
      "source": [
        "\"\"\"\n",
        "Function to return true if the book is present in the list being parsed through the goodreads link.\n",
        "It takes the link, book name, author name in the arguments.\n",
        "\"\"\"\n",
        "def is_the_book_present(gr_link,book_name,author_name):\n",
        "  #flag to be returned\n",
        "  book_flag = False\n",
        "  gr_page = requests.get(gr_link)\n",
        "  gr_soup = BeautifulSoup(gr_page.content,\"html.parser\")\n",
        "  #class with the list found from page source\n",
        "  gr_tb_results = gr_soup.find(class_ = \"tableList js-dataTooltip\")\n",
        "  try:\n",
        "    #get all the book entries\n",
        "    gr_rows = gr_tb_results.find_all(\"tr\", itemtype = \"http://schema.org/Book\")\n",
        "    #go through all the book rows and check columns to fetch book name and author name to compare with arguments\n",
        "    for gr_row in gr_rows:\n",
        "      gr_entry = gr_row.find(\"td\", width = \"100%\")\n",
        "      gr_book_item = gr_entry.find_all(\"span\", itemprop=\"name\")\n",
        "      gr_book = gr_book_item[0].text.strip().lower()\n",
        "      gr_author = gr_book_item[1].text.strip().lower()\n",
        "      #return true if match found\n",
        "      if book_name in gr_book and author_name == gr_author:\n",
        "        book_flag = True\n",
        "        break\n",
        "    return book_flag\n",
        "  except AttributeError:\n",
        "      return book_flag"
      ],
      "metadata": {
        "id": "BhhIxUGdG9ns"
      },
      "execution_count": 4,
      "outputs": []
    },
    {
      "cell_type": "code",
      "source": [
        "#fetch names\n",
        "book_name = input(\"Enter book name: \").lower()\n",
        "author_name = input(\"Enter author name: \").lower()"
      ],
      "metadata": {
        "id": "9CRrnaR4a7N7"
      },
      "execution_count": null,
      "outputs": []
    },
    {
      "cell_type": "code",
      "source": [
        "url = \"https://www.the52book.club/2024-goodreads-lists/\"\n",
        "page = requests.get(url)"
      ],
      "metadata": {
        "id": "F4UAZQyI1hgT"
      },
      "execution_count": 6,
      "outputs": []
    },
    {
      "cell_type": "code",
      "source": [
        "soup = BeautifulSoup(page.content,\"html.parser\")\n",
        "results = soup.find(class_ = \"entry-content clear\")"
      ],
      "metadata": {
        "id": "Tdg3kTAy2ewf"
      },
      "execution_count": 7,
      "outputs": []
    },
    {
      "cell_type": "code",
      "source": [
        "links = results.find_all(\"a\")\n",
        "category_dict = {}"
      ],
      "metadata": {
        "id": "gjIATJfiFBlg"
      },
      "execution_count": 8,
      "outputs": []
    },
    {
      "cell_type": "code",
      "source": [
        "#populate list links with challenge categories\n",
        "for link in links[:-4]:\n",
        "  category_dict[link['href']] = link.text.strip()"
      ],
      "metadata": {
        "id": "J_5YVAnYFJPK"
      },
      "execution_count": 9,
      "outputs": []
    },
    {
      "cell_type": "code",
      "source": [
        "keys = list(category_dict.keys())\n",
        "#list to get all the categories where the book is present\n",
        "found_categories = []\n",
        "for category in keys:\n",
        "  if is_the_book_present(category,book_name,author_name):\n",
        "    found_categories.append(category_dict[category])\n",
        "#print final results\n",
        "print(book_name.capitalize() + \" by \" + author_name.capitalize() + \"\\n\"+ str(found_categories))"
      ],
      "metadata": {
        "id": "wJlkgbbGTbrb"
      },
      "execution_count": null,
      "outputs": []
    }
  ]
}